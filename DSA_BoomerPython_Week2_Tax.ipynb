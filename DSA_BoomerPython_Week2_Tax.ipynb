{
  "nbformat": 4,
  "nbformat_minor": 0,
  "metadata": {
    "colab": {
      "name": "DSA_BoomerPython_Week2_Tax.ipynb",
      "provenance": [],
      "authorship_tag": "ABX9TyPZXlq5HkmQzkvz3CV9ylYu",
      "include_colab_link": true
    },
    "kernelspec": {
      "name": "python3",
      "display_name": "Python 3"
    },
    "language_info": {
      "name": "python"
    }
  },
  "cells": [
    {
      "cell_type": "markdown",
      "metadata": {
        "id": "view-in-github",
        "colab_type": "text"
      },
      "source": [
        "<a href=\"https://colab.research.google.com/github/BoomerPython/Week_2/blob/main/DSA_BoomerPython_Week2_Tax.ipynb\" target=\"_parent\"><img src=\"https://colab.research.google.com/assets/colab-badge.svg\" alt=\"Open In Colab\"/></a>"
      ]
    },
    {
      "cell_type": "code",
      "metadata": {
        "id": "xmyIjoZA6FQv"
      },
      "source": [
        "## Program: taxform.py\n",
        "## Author: Ken Lambert"
      ],
      "execution_count": 1,
      "outputs": []
    },
    {
      "cell_type": "code",
      "metadata": {
        "id": "tgqsLiV06RxI"
      },
      "source": [
        "## Initialize the constants\n",
        "taxRate = 0.20\n",
        "standardDeduction = 10000.0\n",
        "dependentDeduction = 3000.0"
      ],
      "execution_count": 2,
      "outputs": []
    },
    {
      "cell_type": "code",
      "metadata": {
        "colab": {
          "base_uri": "https://localhost:8080/"
        },
        "id": "u9vhFOQO6TeB",
        "outputId": "3b51a8c8-86b7-4bc0-d910-0b8f32f31d15"
      },
      "source": [
        "## Request the inputs\n",
        "grossIncome = float(input(\"Enter the gross income: \"))\n",
        "numDependents = int(input(\"Enter the number of dependents: \"))"
      ],
      "execution_count": 3,
      "outputs": [
        {
          "output_type": "stream",
          "text": [
            "Enter the gross income: 120000\n",
            "Enter the number of dependents: 2\n"
          ],
          "name": "stdout"
        }
      ]
    },
    {
      "cell_type": "code",
      "metadata": {
        "id": "fkUVpoXu6Tp9"
      },
      "source": [
        "## Compute the income tax\n",
        "taxableIncome = grossIncome - standardDeduction - dependentDeduction * numDependents\n",
        "incomeTax = taxableIncome * taxRate"
      ],
      "execution_count": 4,
      "outputs": []
    },
    {
      "cell_type": "code",
      "metadata": {
        "colab": {
          "base_uri": "https://localhost:8080/"
        },
        "id": "uUQArxNL6TxS",
        "outputId": "94977a54-ace6-4b29-cfda-14604c74d35c"
      },
      "source": [
        "## Display the income tax\n",
        "print(\"The income tax is $\" + str(incomeTax))"
      ],
      "execution_count": 5,
      "outputs": [
        {
          "output_type": "stream",
          "text": [
            "The income tax is $20800.0\n"
          ],
          "name": "stdout"
        }
      ]
    }
  ]
}